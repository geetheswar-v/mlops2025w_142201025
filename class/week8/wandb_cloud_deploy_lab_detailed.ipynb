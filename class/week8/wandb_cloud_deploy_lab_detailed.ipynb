{
 "cells": [
  {
   "cell_type": "markdown",
   "id": "4ce563ef",
   "metadata": {
    "id": "4ce563ef"
   },
   "source": [
    "# W&B → Cloud Deploy Lab — Step-by-step Notebook\n",
    "\n",
    "**Purpose:** Teach students how to train a simple model, log it to Weights & Biases (W&B) as an artifact, create a minimal inference service (FastAPI) which downloads the model artifact at startup, containerize the service, and deploy it to Google Cloud Run. The notebook is written so the training + artifact steps can be executed in Colab or a Jupyter server. Docker & cloud deploy steps are runnable on local Ubuntu lab machines.\n",
    "\n",
    "**What you will produce:**\n",
    "\n",
    "- A logged W&B model artifact (`iris-rf`) in project `classroom-deploy`.\n",
    "- A FastAPI inference app that downloads the artifact and serves `/predict`.\n",
    "- A Dockerfile to containerize the app.\n",
    "- Cloud Run deployment instructions (or substitute AWS/Azure as desired).\n",
    "\n",
    "---\n"
   ]
  },
  {
   "cell_type": "markdown",
   "id": "67f2b5e4",
   "metadata": {
    "id": "67f2b5e4"
   },
   "source": [
    "## Prerequisites (before starting)\n",
    "\n",
    "- **W&B account & API key**: Make sure students have W&B accounts (academic) and their `WANDB_API_KEY`.\n",
    "- **Python**: Colab or Python 3.8+ environment.\n",
    "- **For Docker & deploy**: Local Ubuntu machines with Docker and Google Cloud SDK installed.\n",
    "- **Optional**: GitHub account (for CI/CD exercise).\n",
    "\n",
    "**Notes:**\n",
    "- Colab: You can run the training and artifact steps in Colab, but building Docker images and deploying with `gcloud` must be done on local machines.\n",
    "\n"
   ]
  },
  {
   "cell_type": "markdown",
   "id": "0f517cd7",
   "metadata": {
    "id": "0f517cd7"
   },
   "source": [
    "## 1) Install Python dependencies\n",
    "\n",
    "Run this cell in Colab or your local notebook to install the required packages for the lab (training, logging, and local testing)."
   ]
  },
  {
   "cell_type": "code",
   "execution_count": null,
   "id": "3d28337b",
   "metadata": {
    "colab": {
     "base_uri": "https://localhost:8080/"
    },
    "executionInfo": {
     "elapsed": 13332,
     "status": "ok",
     "timestamp": 1760124607150,
     "user": {
      "displayName": "Ashish Tripathy",
      "userId": "16782863787592507670"
     },
     "user_tz": -330
    },
    "id": "3d28337b",
    "outputId": "721ebbf7-039b-4574-88f1-dc77d58c50c8"
   },
   "outputs": [
    {
     "name": "stdout",
     "output_type": "stream",
     "text": [
      "Using UV to install dependencies...\n",
      "\u001b[2mResolved \u001b[1m57 packages\u001b[0m \u001b[2min 0.91ms\u001b[0m\u001b[0m\n",
      "\u001b[2mAudited \u001b[1m52 packages\u001b[0m \u001b[2min 0.02ms\u001b[0m\u001b[0m\n",
      "Installed dependencies: wandb, scikit-learn, joblib, numpy\n"
     ]
    }
   ],
   "source": [
    "print('Using UV to install dependencies...')\n",
    "!uv add wandb scikit-learn joblib numpy dotenv\n",
    "print('Installed dependencies: wandb, scikit-learn, joblib, numpy, dotenv')"
   ]
  },
  {
   "cell_type": "markdown",
   "id": "67493301",
   "metadata": {
    "id": "67493301"
   },
   "source": [
    "### 1.1 Set your W&B API key\n",
    "\n",
    "Using Dotenv to load the api key here"
   ]
  },
  {
   "cell_type": "code",
   "execution_count": 2,
   "id": "533d1316",
   "metadata": {
    "colab": {
     "base_uri": "https://localhost:8080/"
    },
    "executionInfo": {
     "elapsed": 18,
     "status": "ok",
     "timestamp": 1760126658940,
     "user": {
      "displayName": "Ashish Tripathy",
      "userId": "16782863787592507670"
     },
     "user_tz": -330
    },
    "id": "533d1316",
    "outputId": "2ca35c7e-38c6-436f-f627-b98373d1cd60"
   },
   "outputs": [
    {
     "name": "stdout",
     "output_type": "stream",
     "text": [
      "W&B API Key loaded: True\n"
     ]
    }
   ],
   "source": [
    "import dotenv\n",
    "import os\n",
    "\n",
    "dotenv.load_dotenv()\n",
    "WANDB_API_KEY = os.getenv('WANDB_API_KEY')\n",
    "print(f'W&B API Key loaded: {WANDB_API_KEY is not None}')"
   ]
  },
  {
   "cell_type": "markdown",
   "id": "e4e4422b",
   "metadata": {
    "id": "e4e4422b"
   },
   "source": [
    "## 2) Login to W&B from the notebook\n",
    "\n",
    "This will attempt to use `WANDB_API_KEY` from the environment. If not set, `wandb.login()` may prompt you interactively (Colab)."
   ]
  },
  {
   "cell_type": "code",
   "execution_count": 4,
   "id": "aa010906",
   "metadata": {
    "colab": {
     "base_uri": "https://localhost:8080/"
    },
    "executionInfo": {
     "elapsed": 4577,
     "status": "ok",
     "timestamp": 1760126666624,
     "user": {
      "displayName": "Ashish Tripathy",
      "userId": "16782863787592507670"
     },
     "user_tz": -330
    },
    "id": "aa010906",
    "outputId": "01211b04-45af-4db9-9e51-e0132a8f6496"
   },
   "outputs": [
    {
     "name": "stdout",
     "output_type": "stream",
     "text": [
      "wandb.login() successful (or WANDB_API_KEY used).\n"
     ]
    }
   ],
   "source": [
    "import wandb\n",
    "try:\n",
    "    wandb.login()\n",
    "    print('wandb.login() successful (or WANDB_API_KEY used).')\n",
    "except Exception as e:\n",
    "    print('wandb.login() failed — set WANDB_API_KEY or run `!wandb login` interactively.', e)"
   ]
  },
  {
   "cell_type": "code",
   "execution_count": 5,
   "id": "WQdWRaqGo8BJ",
   "metadata": {
    "colab": {
     "base_uri": "https://localhost:8080/"
    },
    "executionInfo": {
     "elapsed": 88548,
     "status": "ok",
     "timestamp": 1760126650923,
     "user": {
      "displayName": "Ashish Tripathy",
      "userId": "16782863787592507670"
     },
     "user_tz": -330
    },
    "id": "WQdWRaqGo8BJ",
    "outputId": "5903fd39-affa-43cb-f589-6675721eda3e"
   },
   "outputs": [],
   "source": [
    "# !wandb login --relogin"
   ]
  },
  {
   "cell_type": "markdown",
   "id": "c678487f",
   "metadata": {
    "id": "c678487f"
   },
   "source": [
    "## 3) Step 1 — Train a model and log it to W&B as an artifact\n",
    "\n",
    "This cell trains a small RandomForest on the Iris dataset, saves `model.pkl`, and logs it to W&B in project `classroom-deploy` with artifact name `iris-rf`.\n",
    "\n",
    "**Run this cell**."
   ]
  },
  {
   "cell_type": "code",
   "execution_count": 7,
   "id": "bc5d1fce",
   "metadata": {
    "colab": {
     "base_uri": "https://localhost:8080/",
     "height": 225
    },
    "executionInfo": {
     "elapsed": 4566,
     "status": "ok",
     "timestamp": 1760126675635,
     "user": {
      "displayName": "Ashish Tripathy",
      "userId": "16782863787592507670"
     },
     "user_tz": -330
    },
    "id": "bc5d1fce",
    "outputId": "f3cf0417-fa82-4a06-8c5b-4cd0b68de35e"
   },
   "outputs": [
    {
     "name": "stdout",
     "output_type": "stream",
     "text": [
      "Training model...\n"
     ]
    },
    {
     "data": {
      "text/html": [],
      "text/plain": [
       "<IPython.core.display.HTML object>"
      ]
     },
     "metadata": {},
     "output_type": "display_data"
    },
    {
     "data": {
      "text/html": [
       "Tracking run with wandb version 0.22.2"
      ],
      "text/plain": [
       "<IPython.core.display.HTML object>"
      ]
     },
     "metadata": {},
     "output_type": "display_data"
    },
    {
     "data": {
      "text/html": [
       "Run data is saved locally in <code>/home/geetheswar/Programming/Sem7/MLOps_git/class/week8/wandb/run-20251021_222001-1htiismb</code>"
      ],
      "text/plain": [
       "<IPython.core.display.HTML object>"
      ]
     },
     "metadata": {},
     "output_type": "display_data"
    },
    {
     "data": {
      "text/html": [
       "Syncing run <strong><a href='https://wandb.ai/geetheswar-v-iit-pkd/classroom-deploy/runs/1htiismb' target=\"_blank\">worthy-monkey-3</a></strong> to <a href='https://wandb.ai/geetheswar-v-iit-pkd/classroom-deploy' target=\"_blank\">Weights & Biases</a> (<a href='https://wandb.me/developer-guide' target=\"_blank\">docs</a>)<br>"
      ],
      "text/plain": [
       "<IPython.core.display.HTML object>"
      ]
     },
     "metadata": {},
     "output_type": "display_data"
    },
    {
     "data": {
      "text/html": [
       " View project at <a href='https://wandb.ai/geetheswar-v-iit-pkd/classroom-deploy' target=\"_blank\">https://wandb.ai/geetheswar-v-iit-pkd/classroom-deploy</a>"
      ],
      "text/plain": [
       "<IPython.core.display.HTML object>"
      ]
     },
     "metadata": {},
     "output_type": "display_data"
    },
    {
     "data": {
      "text/html": [
       " View run at <a href='https://wandb.ai/geetheswar-v-iit-pkd/classroom-deploy/runs/1htiismb' target=\"_blank\">https://wandb.ai/geetheswar-v-iit-pkd/classroom-deploy/runs/1htiismb</a>"
      ],
      "text/plain": [
       "<IPython.core.display.HTML object>"
      ]
     },
     "metadata": {},
     "output_type": "display_data"
    },
    {
     "name": "stdout",
     "output_type": "stream",
     "text": [
      "Training accuracy: 1.0000\n",
      "Logged artifact: iris-rf\n"
     ]
    },
    {
     "data": {
      "text/html": [],
      "text/plain": [
       "<IPython.core.display.HTML object>"
      ]
     },
     "metadata": {},
     "output_type": "display_data"
    },
    {
     "data": {
      "text/html": [
       " View run <strong style=\"color:#cdcd00\">worthy-monkey-3</strong> at: <a href='https://wandb.ai/geetheswar-v-iit-pkd/classroom-deploy/runs/1htiismb' target=\"_blank\">https://wandb.ai/geetheswar-v-iit-pkd/classroom-deploy/runs/1htiismb</a><br> View project at: <a href='https://wandb.ai/geetheswar-v-iit-pkd/classroom-deploy' target=\"_blank\">https://wandb.ai/geetheswar-v-iit-pkd/classroom-deploy</a><br>Synced 5 W&B file(s), 0 media file(s), 0 artifact file(s) and 0 other file(s)"
      ],
      "text/plain": [
       "<IPython.core.display.HTML object>"
      ]
     },
     "metadata": {},
     "output_type": "display_data"
    },
    {
     "data": {
      "text/html": [
       "Find logs at: <code>./wandb/run-20251021_222001-1htiismb/logs</code>"
      ],
      "text/plain": [
       "<IPython.core.display.HTML object>"
      ]
     },
     "metadata": {},
     "output_type": "display_data"
    }
   ],
   "source": [
    "from sklearn.datasets import load_iris\n",
    "from sklearn.ensemble import RandomForestClassifier\n",
    "import joblib\n",
    "import wandb\n",
    "\n",
    "print('Training model...')\n",
    "\n",
    "run = wandb.init(project='classroom-deploy', job_type='train')\n",
    "X, y = load_iris(return_X_y=True)\n",
    "clf = RandomForestClassifier(n_estimators=50, random_state=42)\n",
    "clf.fit(X, y)\n",
    "acc = clf.score(X, y)\n",
    "print(f'Training accuracy: {acc:.4f}')\n",
    "\n",
    "model_path = 'model.pkl'\n",
    "joblib.dump(clf, model_path)\n",
    "\n",
    "artifact = wandb.Artifact(name='iris-rf', type='model', metadata={'accuracy': acc})\n",
    "artifact.add_file(model_path)\n",
    "run.log_artifact(artifact)\n",
    "print('Logged artifact: iris-rf')\n",
    "run.finish()"
   ]
  },
  {
   "cell_type": "markdown",
   "id": "72f28716",
   "metadata": {
    "id": "72f28716"
   },
   "source": [
    "### 3.1 Verify your artifact\n",
    "\n",
    "- Open the W&B web UI (https://wandb.ai) → your account → project `classroom-deploy` and you should see the run and the artifact.\n",
    "\n",
    "- Optional: try to list artifacts via the API. If you encounter permission/enterprise differences, rely on the web UI.\n"
   ]
  },
  {
   "cell_type": "code",
   "execution_count": 11,
   "id": "a7802e6f",
   "metadata": {
    "colab": {
     "base_uri": "https://localhost:8080/"
    },
    "executionInfo": {
     "elapsed": 116,
     "status": "ok",
     "timestamp": 1760126680748,
     "user": {
      "displayName": "Ashish Tripathy",
      "userId": "16782863787592507670"
     },
     "user_tz": -330
    },
    "id": "a7802e6f",
    "outputId": "784ae249-44b2-4798-ae89-fb2c69d71a5b"
   },
   "outputs": [
    {
     "name": "stdout",
     "output_type": "stream",
     "text": [
      "Recent model artifacts (project=classroom-deploy):\n",
      "- QXJ0aWZhY3Q6MjE1NzU1MjE5MQ==\n",
      "- QXJ0aWZhY3Q6MjE1NzUxMDUwMw==\n"
     ]
    }
   ],
   "source": [
    "import wandb\n",
    "api = wandb.Api()\n",
    "try:\n",
    "    print('Recent model artifacts (project=classroom-deploy):')\n",
    "    arts = api.artifacts(type_name='model', name='geetheswar-v-iit-pkd/classroom-deploy/iris-rf')\n",
    "    for a in arts[:10]:\n",
    "        try:\n",
    "            print('-', a.id)\n",
    "        except Exception:\n",
    "            print('-', str(a))\n",
    "except Exception as e:\n",
    "    print('Could not list artifacts via API. Please check the W&B web UI to inspect artifacts.\\n', e)"
   ]
  },
  {
   "cell_type": "markdown",
   "id": "adadfd98",
   "metadata": {
    "id": "adadfd98"
   },
   "source": [
    "## 4) Step 2 — Create a FastAPI app that downloads the model artifact at startup\n",
    "\n",
    "Run the following cell to create `app/main.py`, `app/requirements.txt`, and a `Dockerfile`. The app expects an environment variable `WANDER_MODEL_ARTIFACT` with the artifact reference, e.g. `your-username/classroom-deploy/iris-rf:latest`. If you want to bake the model into the image, see the notes below.\n"
   ]
  },
  {
   "cell_type": "code",
   "execution_count": null,
   "id": "16e4176b",
   "metadata": {
    "colab": {
     "base_uri": "https://localhost:8080/"
    },
    "executionInfo": {
     "elapsed": 20,
     "status": "ok",
     "timestamp": 1760126692723,
     "user": {
      "displayName": "Ashish Tripathy",
      "userId": "16782863787592507670"
     },
     "user_tz": -330
    },
    "id": "16e4176b",
    "outputId": "43e70d85-9fef-4dd5-a209-9b50aa5b3aef"
   },
   "outputs": [
    {
     "name": "stdout",
     "output_type": "stream",
     "text": [
      "Wrote files to ./app:\n",
      " - app/main.py\n",
      " - app/requirements.txt\n",
      " - app/Dockerfile\n"
     ]
    }
   ],
   "source": [
    "import os\n",
    "os.makedirs('app', exist_ok=True)\n",
    "\n",
    "main_py = '''import os\n",
    "import joblib\n",
    "import wandb\n",
    "from fastapi import FastAPI\n",
    "import numpy as np\n",
    "import dotenv\n",
    "\n",
    "dotenv.load_dotenv()\n",
    "\n",
    "WANDB_API_KEY = os.getenv('WANDB_API_KEY')\n",
    "print(f'W&B API Key loaded: {WANDB_API_KEY is not None}')\n",
    "\n",
    "app = FastAPI()\n",
    "MODEL_ARTIFACT = os.environ.get('WANDER_MODEL_ARTIFACT', 'your-username/classroom-deploy/iris-rf:latest')\n",
    "\n",
    "# Downloads the artifact and returns a loaded model\n",
    "def load_model_from_wandb(artifact_ref):\n",
    "    try:\n",
    "        wandb.login()\n",
    "    except Exception:\n",
    "        pass\n",
    "    api = wandb.Api()\n",
    "    artifact = api.artifact(artifact_ref)\n",
    "    path = artifact.download()\n",
    "    model_file = os.path.join(path, 'model.pkl')\n",
    "    return joblib.load(model_file)\n",
    "\n",
    "@app.on_event('startup')\n",
    "def startup():\n",
    "    global model\n",
    "    model = load_model_from_wandb(MODEL_ARTIFACT)\n",
    "\n",
    "@app.get('/')\n",
    "def root():\n",
    "    return {'status': 'ok', 'model_artifact': MODEL_ARTIFACT}\n",
    "\n",
    "@app.post('/predict')\n",
    "def predict(features: list[float]):\n",
    "    arr = np.array(features).reshape(1, -1)\n",
    "    pred = model.predict(arr)\n",
    "    return {'prediction': int(pred[0])}\n",
    "'''\n",
    "\n",
    "with open('app/main.py', 'w') as f:\n",
    "    f.write(main_py)\n",
    "\n",
    "reqs = '''fastapi\n",
    "uvicorn[standard]\n",
    "scikit-learn\n",
    "joblib\n",
    "wandb\n",
    "numpy\n",
    "'''\n",
    "with open('app/requirements.txt', 'w') as f:\n",
    "    f.write(reqs)\n",
    "\n",
    "dockerfile = '''FROM python:3.10-slim\n",
    "WORKDIR /app\n",
    "COPY ./requirements.txt /app/requirements.txt\n",
    "RUN pip install --no-cache-dir -r /app/requirements.txt\n",
    "COPY ./main.py /app/main.py\n",
    "ENV PORT=8080\n",
    "CMD [\"uvicorn\", \"main:app\", \"--host\", \"0.0.0.0\", \"--port\", \"8080\"]\n",
    "'''\n",
    "with open('app/Dockerfile', 'w') as f:\n",
    "    f.write(dockerfile)\n",
    "\n",
    "print('Wrote files to ./app:')\n",
    "print(' - app/main.py')\n",
    "print(' - app/requirements.txt')\n",
    "print(' - app/Dockerfile')\n"
   ]
  },
  {
   "cell_type": "markdown",
   "id": "23baf8a9",
   "metadata": {
    "id": "23baf8a9"
   },
   "source": [
    "### 4.1 Quick test: Download the artifact and run inference locally (no FastAPI server needed)\n",
    "\n",
    "This lets students verify the model artifact and inference logic inside the notebook. It downloads the artifact using the W&B API and loads `model.pkl` then runs a test prediction.\n"
   ]
  },
  {
   "cell_type": "code",
   "execution_count": 14,
   "id": "21b2eff2",
   "metadata": {
    "colab": {
     "base_uri": "https://localhost:8080/"
    },
    "executionInfo": {
     "elapsed": 727,
     "status": "ok",
     "timestamp": 1760126703020,
     "user": {
      "displayName": "Ashish Tripathy",
      "userId": "16782863787592507670"
     },
     "user_tz": -330
    },
    "id": "21b2eff2",
    "outputId": "8ccf7e87-5fb2-4fde-bea7-4075c074d7fb"
   },
   "outputs": [
    {
     "name": "stdout",
     "output_type": "stream",
     "text": [
      "Attempting to download artifact: geetheswar-v-iit-pkd/classroom-deploy/iris-rf:v1\n"
     ]
    },
    {
     "name": "stderr",
     "output_type": "stream",
     "text": [
      "\u001b[34m\u001b[1mwandb\u001b[0m:   1 of 1 files downloaded.  \n"
     ]
    },
    {
     "name": "stdout",
     "output_type": "stream",
     "text": [
      "Downloaded to /home/geetheswar/Programming/Sem7/MLOps_git/class/week8/artifacts/iris-rf:v1\n",
      "Sample prediction: [0]\n"
     ]
    }
   ],
   "source": [
    "import joblib\n",
    "import wandb\n",
    "\n",
    "artifact_ref = 'geetheswar-v-iit-pkd/classroom-deploy/iris-rf:v1'\n",
    "print('Attempting to download artifact:', artifact_ref)\n",
    "try:\n",
    "    api = wandb.Api()\n",
    "    artifact = api.artifact(artifact_ref)\n",
    "    path = artifact.download()\n",
    "    print('Downloaded to', path)\n",
    "    model = joblib.load(os.path.join(path, 'model.pkl'))\n",
    "    import numpy as np\n",
    "    sample = np.array([5.1, 3.5, 1.4, 0.2]).reshape(1, -1)\n",
    "    print('Sample prediction:', model.predict(sample).tolist())\n",
    "except Exception as e:\n",
    "    print('Could not download/run model locally. Check WANDB_API_KEY and artifact ref.\\n', e)"
   ]
  },
  {
   "cell_type": "markdown",
   "id": "a34a71bf",
   "metadata": {
    "id": "a34a71bf"
   },
   "source": [
    "### 4.2 Run the FastAPI app locally (non-Docker) — good for quick testing on a development machine\n",
    "\n"
   ]
  },
  {
   "cell_type": "code",
   "execution_count": 32,
   "id": "37f6652f",
   "metadata": {},
   "outputs": [
    {
     "name": "stdout",
     "output_type": "stream",
     "text": [
      "\u001b[2mResolved \u001b[1m128 packages\u001b[0m \u001b[2min 1ms\u001b[0m\u001b[0m\n",
      "\u001b[2mAudited \u001b[1m124 packages\u001b[0m \u001b[2min 0.04ms\u001b[0m\u001b[0m\n"
     ]
    }
   ],
   "source": [
    "!uv add fastapi \"uvicorn[standard]\" \"python-multipart\""
   ]
  },
  {
   "cell_type": "code",
   "execution_count": 41,
   "id": "88a223ad",
   "metadata": {},
   "outputs": [
    {
     "name": "stdout",
     "output_type": "stream",
     "text": [
      "Started Uvicorn with PID: 24711\n"
     ]
    }
   ],
   "source": [
    "import subprocess\n",
    "import os\n",
    "import signal\n",
    "\n",
    "log_file = \"uvicorn_logs.txt\"\n",
    "\n",
    "# Remove old logs if they exist\n",
    "if os.path.exists(log_file):\n",
    "    os.remove(log_file)\n",
    "\n",
    "# Start Uvicorn in background\n",
    "process = subprocess.Popen(\n",
    "    [\"uv\", \"run\", \"uvicorn\", \"app.main:app\", \"--host\", \"0.0.0.0\", \"--port\", \"8080\", \"--reload\"],\n",
    "    stdout=open(log_file, \"a\"),\n",
    "    stderr=subprocess.STDOUT,\n",
    ")\n",
    "\n",
    "print(f\"Started Uvicorn with PID: {process.pid}\")\n"
   ]
  },
  {
   "cell_type": "code",
   "execution_count": 43,
   "id": "45c770dc",
   "metadata": {},
   "outputs": [
    {
     "name": "stdout",
     "output_type": "stream",
     "text": [
      "{\"prediction\":0}"
     ]
    }
   ],
   "source": [
    "!curl -X POST -H \"Content-Type: application/json\" --data '[5.1,3.5,1.4,0.2]' http://localhost:8080/predict"
   ]
  },
  {
   "cell_type": "code",
   "execution_count": 44,
   "id": "7CIWizvYve9G",
   "metadata": {
    "id": "7CIWizvYve9G"
   },
   "outputs": [
    {
     "name": "stdout",
     "output_type": "stream",
     "text": [
      "Uvicorn stopped.\n"
     ]
    }
   ],
   "source": [
    "import signal\n",
    "\n",
    "os.kill(process.pid, signal.SIGTERM)\n",
    "print(\"Uvicorn stopped.\")"
   ]
  },
  {
   "cell_type": "markdown",
   "id": "1193aca5",
   "metadata": {
    "id": "1193aca5"
   },
   "source": [
    "## 5) Dockerize the app — build and run on local Ubuntu lab machines\n",
    "\n",
    "**Build** (from project root):\n",
    "\n",
    "```bash\n",
    "cd app\n",
    "docker build -t iris-wandb:local .\n",
    "```\n",
    "\n",
    "**Run** (pass secrets via env vars):\n",
    "\n",
    "```bash\n",
    "docker run -e WANDB_API_KEY=\"$WANDB_API_KEY\" \\\n",
    "  -e WANDER_MODEL_ARTIFACT=\"your-username/classroom-deploy/iris-rf:latest\" \\\n",
    "  -p 8080:8080 iris-wandb:local\n",
    "```\n",
    "\n",
    "**Test** as before with curl to `/predict`.\n",
    "\n",
    "**Baking model into image (optional)**: For faster startup and offline runs, download the artifact locally and `COPY` the `model.pkl` into the image during build. That requires a local download step prior to `docker build`.\n"
   ]
  },
  {
   "cell_type": "markdown",
   "id": "db25adc2",
   "metadata": {
    "id": "db25adc2"
   },
   "source": [
    "## 6) Deploy to Google Cloud Run\n",
    "\n",
    "Prerequisite: `gcloud` configured and authenticated, billing enabled for the project.\n",
    "\n",
    "Commands (run locally):\n",
    "\n",
    "```bash\n",
    "# set project\n",
    "gcloud config set project YOUR_GCP_PROJECT\n",
    "\n",
    "# build and push using Cloud Build\n",
    "gcloud builds submit --tag gcr.io/$GOOGLE_CLOUD_PROJECT/iris-wandb\n",
    "\n",
    "# deploy\n",
    "gcloud run deploy iris-wandb \\\n",
    "  --image gcr.io/$GOOGLE_CLOUD_PROJECT/iris-wandb \\\n",
    "  --platform managed \\\n",
    "  --region us-central1 \\\n",
    "  --allow-unauthenticated \\\n",
    "  --set-env-vars=WANDB_API_KEY=$WANDB_API_KEY,WANDER_MODEL_ARTIFACT=your-username/classroom-deploy/iris-rf:latest\n",
    "```\n",
    "\n",
    "After this, Cloud Run will provide a public URL you can call with the same `/predict` POST body.\n"
   ]
  },
  {
   "cell_type": "markdown",
   "id": "74b2acab",
   "metadata": {
    "id": "74b2acab"
   },
   "source": [
    "## 7) Optional: GitHub Actions for CI/CD (auto-deploy on push)\n",
    "\n",
    "Create `.github/workflows/ci-cd.yml` with the following content (example for Cloud Run deployment):\n",
    "\n",
    "```yaml\n",
    "name: CI/CD\n",
    "on:\n",
    "  push:\n",
    "    branches: [ main ]\n",
    "jobs:\n",
    "  build-deploy:\n",
    "    runs-on: ubuntu-latest\n",
    "    steps:\n",
    "      - uses: actions/checkout@v4\n",
    "      - uses: google-github-actions/setup-gcloud@v1\n",
    "        with:\n",
    "          project_id: ${{ secrets.GCP_PROJECT }}\n",
    "          service_account_key: ${{ secrets.GCP_SA_KEY }}\n",
    "      - name: Build & push\n",
    "        run: |\n",
    "          gcloud builds submit --tag gcr.io/$GCP_PROJECT/iris-wandb\n",
    "      - name: Deploy to Cloud Run\n",
    "        run: |\n",
    "          gcloud run deploy iris-wandb \\\n",
    "            --image gcr.io/$GCP_PROJECT/iris-wandb \\\n",
    "            --platform managed \\\n",
    "            --region us-central1 \\\n",
    "            --allow-unauthenticated \\\n",
    "            --set-env-vars=WANDB_API_KEY=${{ secrets.WANDB_API_KEY }},WANDER_MODEL_ARTIFACT=your-username/classroom-deploy/iris-rf:latest\n",
    "```\n",
    "\n",
    "Use GitHub Secrets for `GCP_SA_KEY` and `WANDB_API_KEY`.\n"
   ]
  },
  {
   "cell_type": "markdown",
   "id": "18237083",
   "metadata": {
    "id": "18237083"
   },
   "source": [
    "## 8) Troubleshooting & common issues\n",
    "\n",
    "- **W&B authentication errors**: Ensure `WANDB_API_KEY` is set or run `wandb login`.\n",
    "- **Artifact not found**: Check artifact path format: `username/project/artifact-name:version` or `username/project/artifact-name:latest`.\n",
    "- **Docker permissions**: If `docker build` fails due to permissions, ensure your user can run Docker or use `sudo`.\n",
    "- **Startup latency**: Downloading the artifact at container startup adds latency — consider baking the model into the image for production.\n",
    "\n"
   ]
  },
  {
   "cell_type": "markdown",
   "id": "7766d88c",
   "metadata": {
    "id": "7766d88c"
   },
   "source": [
    "## Instructor notes & grading rubric\n",
    "\n",
    "Suggested rubric:\n",
    "- Model logged as W&B Artifact: 10 pts\n",
    "- Local FastAPI app runs and predicts (no Docker): 20 pts\n",
    "- Docker image build successful: 20 pts\n",
    "- Cloud Run (or cloud) deployment functional: 30 pts\n",
    "- README / Documentation clarity: 20 pts\n",
    "\n",
    "Instructor tip: Pre-create a W&B project and share artifact refs to reduce setup noise in class.\n"
   ]
  }
 ],
 "metadata": {
  "colab": {
   "provenance": []
  },
  "kernelspec": {
   "display_name": "class-work (3.12.3)",
   "language": "python",
   "name": "python3"
  },
  "language_info": {
   "codemirror_mode": {
    "name": "ipython",
    "version": 3
   },
   "file_extension": ".py",
   "mimetype": "text/x-python",
   "name": "python",
   "nbconvert_exporter": "python",
   "pygments_lexer": "ipython3",
   "version": "3.12.3"
  }
 },
 "nbformat": 4,
 "nbformat_minor": 5
}
